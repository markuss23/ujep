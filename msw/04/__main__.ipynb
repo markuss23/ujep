{
 "cells": [
  {
   "cell_type": "code",
   "execution_count": 16,
   "metadata": {},
   "outputs": [
    {
     "name": "stdout",
     "output_type": "stream",
     "text": [
      "Execution time: 3.266334533691406e-05 seconds\n",
      "[[84, 90, 96], [201, 216, 231], [318, 342, 366]]\n"
     ]
    }
   ],
   "source": [
    "import time\n",
    "# Matrix A\n",
    "A = [[1, 2, 3],\n",
    "     [4, 5, 6],\n",
    "     [7, 8, 9]]\n",
    "\n",
    "# Matrix B\n",
    "B = [[10, 11, 12],\n",
    "     [13, 14, 15],\n",
    "     [16, 17, 18]]\n",
    "\n",
    "\n",
    "\n",
    "# Function for matrix multiplication\n",
    "def matrix_multiplication(matrix1, matrix2):\n",
    "    result = []\n",
    "    for i in range(len(matrix1)):\n",
    "        row = []\n",
    "        for j in range(len(matrix2[0])):\n",
    "            element = 0\n",
    "            for k in range(len(matrix2)):\n",
    "                element += matrix1[i][k] * matrix2[k][j]\n",
    "            row.append(element)\n",
    "        result.append(row)\n",
    "    return result\n",
    "\n",
    "# Test the matrix multiplication function\n",
    "\n",
    "start_time = time.time()\n",
    "\n",
    "\n",
    "C = matrix_multiplication(A, B)\n",
    "\n",
    "end_time = time.time()\n",
    "execution_time = end_time - start_time\n",
    "\n",
    "print(\"Execution time:\", execution_time, \"seconds\")\n",
    "print(C)\n"
   ]
  },
  {
   "cell_type": "code",
   "execution_count": 14,
   "metadata": {},
   "outputs": [
    {
     "name": "stdout",
     "output_type": "stream",
     "text": [
      "Execution time: 6.318092346191406e-05 seconds\n",
      "[[ 84  90  96]\n",
      " [201 216 231]\n",
      " [318 342 366]]\n"
     ]
    }
   ],
   "source": [
    "import numpy as np\n",
    "import time\n",
    "\n",
    "# Create matrix A\n",
    "A = np.array([[1, 2, 3],\n",
    "              [4, 5, 6],\n",
    "              [7, 8, 9]])\n",
    "\n",
    "# Create matrix B\n",
    "B = np.array([[10, 11, 12],\n",
    "              [13, 14, 15],\n",
    "              [16, 17, 18]])\n",
    "\n",
    "# Perform matrix multiplication\n",
    "start_time = time.time()\n",
    "\n",
    "C = np.matmul(A, B)\n",
    "end_time = time.time()\n",
    "execution_time = end_time - start_time\n",
    "\n",
    "print(\"Execution time:\", execution_time, \"seconds\")\n",
    "print(C)\n"
   ]
  },
  {
   "cell_type": "code",
   "execution_count": 21,
   "metadata": {},
   "outputs": [
    {
     "name": "stdout",
     "output_type": "stream",
     "text": [
      "[ 1.5 -0.5]\n"
     ]
    }
   ],
   "source": [
    "import numpy as np\n",
    "# Create matrix\n",
    "matrix = np.array([[3,5],[2,2]])\n",
    "\n",
    "# Create vector\n",
    "vector = np.array([2,2])\n",
    "\n",
    "result = np.matmul(np.linalg.inv(matrix), vector.transpose())\n",
    "print(result)\n"
   ]
  },
  {
   "cell_type": "code",
   "execution_count": 25,
   "metadata": {},
   "outputs": [
    {
     "name": "stdout",
     "output_type": "stream",
     "text": [
      "Řešení: [2.0000000000000013, -2.0000000000000004, 3.0000000000000013]\n"
     ]
    }
   ],
   "source": [
    "import numpy as np\n",
    "\n",
    "# Definice funkce pro Cramerovo pravidlo\n",
    "def cramer_rule(matrix, vector):\n",
    "    # Výpočet determinantu matice\n",
    "    det_matrix = np.linalg.det(matrix)\n",
    "    num_variables = len(vector)\n",
    "    solutions = []\n",
    "    \n",
    "    for i in range(num_variables):\n",
    "        modified_matrix = matrix.copy()\n",
    "        # Nahrazení i-tého sloupce matice vektorem\n",
    "        modified_matrix[:, i] = vector\n",
    "        # Výpočet determinantu upravené matice\n",
    "        det_modified_matrix = np.linalg.det(modified_matrix)\n",
    "        # Výpočet řešení pomocí Cramerova pravidla\n",
    "        solution = det_modified_matrix / det_matrix\n",
    "        solutions.append(solution)\n",
    "    \n",
    "    return solutions\n",
    "\n",
    "# Příklad použití\n",
    "rank = np.linalg.matrix_rank(matrix)\n",
    "if rank != len(vector):\n",
    "    print(\"Soustava rovnic nemá řešení\")\n",
    "    exit()\n",
    "vector = np.array([5,1,11])\n",
    "\n",
    "# Volání funkce cramer_rule pro výpočet řešení\n",
    "solutions = cramer_rule(matrix, vector)\n",
    "print(\"Řešení:\", solutions)\n"
   ]
  },
  {
   "cell_type": "code",
   "execution_count": null,
   "metadata": {},
   "outputs": [],
   "source": []
  }
 ],
 "metadata": {
  "kernelspec": {
   "display_name": "msf-T6o42B1n-py3.10",
   "language": "python",
   "name": "python3"
  },
  "language_info": {
   "codemirror_mode": {
    "name": "ipython",
    "version": 3
   },
   "file_extension": ".py",
   "mimetype": "text/x-python",
   "name": "python",
   "nbconvert_exporter": "python",
   "pygments_lexer": "ipython3",
   "version": "3.10.12"
  }
 },
 "nbformat": 4,
 "nbformat_minor": 2
}
